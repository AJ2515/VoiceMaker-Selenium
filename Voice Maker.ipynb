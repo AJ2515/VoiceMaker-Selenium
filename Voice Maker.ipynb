{
 "cells": [
  {
   "cell_type": "code",
   "execution_count": 184,
   "id": "cfd5cdd3",
   "metadata": {},
   "outputs": [],
   "source": [
    "from Detail import *\n",
    "from selenium import webdriver\n",
    "from selenium.webdriver.common.by import By\n",
    "from selenium.webdriver.edge.service import Service\n",
    "from webdriver_manager.microsoft import EdgeChromiumDriverManager\n",
    "from selenium.webdriver.edge.options import Options\n",
    "import time\n",
    "from selenium.webdriver.support import expected_conditions as EC\n",
    "from selenium.webdriver.support.ui import WebDriverWait\n",
    "import os\n",
    "import re\n",
    "\n",
    "download_path = Download_path\n",
    "options = Options()\n",
    "options.add_experimental_option(\"excludeSwitches\", [\"enable-logging\"])\n",
    "options.add_experimental_option(\"prefs\",{\"download.default_directory\" : download_path})\n",
    "\n",
    "path = r\"C:\\Users\\aj4an\\Desktop\\190020006\\Python\\Automation\\Selenium\\Driver\\msedgedriver.exe\""
   ]
  },
  {
   "cell_type": "code",
   "execution_count": 185,
   "id": "da50e93d",
   "metadata": {
    "scrolled": true
   },
   "outputs": [
    {
     "name": "stderr",
     "output_type": "stream",
     "text": [
      "[WDM] - ====== WebDriver manager ======\n",
      "[WDM] - Current edge version is 100.0.1185\n",
      "[WDM] - Get LATEST edgedriver version for 100.0.1185 Edge\n",
      "[WDM] - Driver [C:\\Users\\aj4an\\.wdm\\drivers\\edgedriver\\win64\\100.0.1185.44\\msedgedriver.exe] found in cache\n"
     ]
    }
   ],
   "source": [
    "driver = webdriver.Edge(service=Service(EdgeChromiumDriverManager().install()),options=options)\n",
    "driver.implicitly_wait(5)\n",
    "driver.maximize_window()\n",
    "driver.get(\"https://voicemaker.in/\")"
   ]
  },
  {
   "cell_type": "code",
   "execution_count": 186,
   "id": "f8863c1c",
   "metadata": {},
   "outputs": [],
   "source": [
    "old_files = len([i for i in os.listdir(download_path) if i.endswith(\".mp3\")])"
   ]
  },
  {
   "cell_type": "code",
   "execution_count": 187,
   "id": "59cae031",
   "metadata": {},
   "outputs": [],
   "source": [
    "def LogIn():\n",
    "    try:\n",
    "        login_page = driver.find_element(By.XPATH, '//*[@id=\"registerModal\"]/div/div/div/div/div[2]')\n",
    "        if login_page.is_displayed():\n",
    "            driver.find_element(By.XPATH,'//*[@id=\"registerModal\"]/div/div/div/div/div[2]/div/div[2]/p/a').click()\n",
    "        if driver.find_element(By.XPATH,'//*[@id=\"loginModal\"]/div/div/div').is_displayed():\n",
    "            email = driver.find_element(By.ID, \"loginEmail\")\n",
    "            email.clear()\n",
    "            email.send_keys(Email)\n",
    "            password = driver.find_element(By.ID,\"loginPassword\")\n",
    "            password.clear()\n",
    "            password.send_keys(Password)\n",
    "            if driver.find_element(By.ID,\"basic_checkbox_1\").is_selected():\n",
    "                driver.find_element(By.ID,\"basic_checkbox_1\").click()\n",
    "            driver.find_element(By.ID, \"btnLogin\").click()\n",
    "    except:\n",
    "        pass\n",
    "        #print(\"Either Page not avalible or invalid Id,Password\")\n",
    "\n",
    "        "
   ]
  },
  {
   "cell_type": "code",
   "execution_count": 188,
   "id": "d8104fad",
   "metadata": {
    "code_folding": []
   },
   "outputs": [],
   "source": [
    "def download_one(Text):\n",
    "    wait = WebDriverWait(driver,5)\n",
    "    text_field = driver.find_element(By.ID, \"main-textarea\")\n",
    "    text_field.clear()\n",
    "    text_field.send_keys(Text)\n",
    "\n",
    "    neural_tts = driver.find_element(By.ID,\"neural\")\n",
    "    if not neural_tts.is_selected():\n",
    "        neural_tts.click()\n",
    "\n",
    "    voice = wait.until(EC.presence_of_element_located((By.ID, \"ai1-Joanna\")))\n",
    "    if not voice.is_selected():\n",
    "        voice.click()\n",
    "\n",
    "    convert = driver.find_element(By.XPATH, '//*[@id=\"buttons-box\"]/button[1]')\n",
    "    convert.click()\n",
    "\n",
    "    c = wait.until(EC.element_to_be_clickable(convert))\n",
    "    c = wait.until(EC.element_to_be_clickable(convert))\n",
    "    \n",
    "    try:\n",
    "        LogIn()\n",
    "    except:\n",
    "        pass\n",
    "    try:\n",
    "        driver.find_element(By.ID,\"download-format\").click()\n",
    "    except:\n",
    "        time.sleep(5)\n",
    "        download_one(Text)"
   ]
  },
  {
   "cell_type": "code",
   "execution_count": 189,
   "id": "5ba2fa2c",
   "metadata": {
    "scrolled": false
   },
   "outputs": [],
   "source": [
    "# spliting the text to proper format\n",
    "def format_download_all(Text):\n",
    "    rx = r\"\\s*\\.\\s*\"\n",
    "    Text = re.sub(rx, \". \", Text).rstrip()\n",
    "    Text.rstrip()\n",
    "    Last_index = len(Text)-1\n",
    "    i = 0\n",
    "    count = 0\n",
    "    if Last_index >= 250:\n",
    "        dot_idx = Text[:250].rindex(\". \")\n",
    "    else:\n",
    "        dot_idx = Last_index\n",
    "    while True:\n",
    "        sub_text = Text[i:i+dot_idx+1]\n",
    "        download_one(sub_text)\n",
    "        print(\"File downloading\")\n",
    "        count+=1\n",
    "        i = i+dot_idx+2\n",
    "\n",
    "        try:\n",
    "            temp = Text[i:i+(250 if Last_index>i+250 else Last_index)]\n",
    "            if temp == \"\":\n",
    "                break\n",
    "            dot_idx = temp.rindex(\". \")\n",
    "        except ValueError:\n",
    "            dot_idx = Text[i:i+(250 if Last_index>i+250 else Last_index)].rindex(\".\")\n",
    "        except:\n",
    "            break\n",
    "    return count"
   ]
  },
  {
   "cell_type": "code",
   "execution_count": 190,
   "id": "4dc01469",
   "metadata": {
    "code_folding": []
   },
   "outputs": [],
   "source": [
    "# Merge file\n",
    "def merge_file():\n",
    "    files = [i for i in os.listdir(download_path) if not i.startswith(\"VM_\")]\n",
    "    files.sort()\n",
    "    file_name = \"VM_\"+time.strftime(\"%y%m%d%H%M%S\", time.localtime())\n",
    "    with open(os.path.join(download_path,file_name)+\".mp3\",\"wb\") as output:\n",
    "        for i in files:\n",
    "            with open(os.path.join(download_path,i),\"rb\") as read_file:\n",
    "                output.write(read_file.read())\n",
    "            with open(os.path.join(download_path,\"VM_Space.mp3\"),\"rb\") as space:\n",
    "                output.write(space.read())\n",
    "            os.remove(os.path.join(download_path,i))\n",
    "        with open(os.path.join(download_path,\"VM_Space.mp3\"),\"rb\") as space:\n",
    "                output.write(space.read())"
   ]
  },
  {
   "cell_type": "code",
   "execution_count": 191,
   "id": "f7d0e516",
   "metadata": {
    "code_folding": [],
    "scrolled": true
   },
   "outputs": [
    {
     "name": "stdout",
     "output_type": "stream",
     "text": [
      "File downloading\n",
      "File downloading\n",
      "File downloading\n",
      "File downloading\n",
      "All Files downloaded.\n",
      "Merginng...\n",
      "Done\n"
     ]
    }
   ],
   "source": [
    "if __name__ == \"__main__\":\n",
    "    number_of_files = format_download_all(Text)\n",
    "    while len([i for i in os.listdir(download_path) if i.endswith(\".mp3\")]) != number_of_files + old_files:\n",
    "        continue                                                                                        # Wait for download\n",
    "    print(\"All Files downloaded.\\nMerginng...\")\n",
    "    time.sleep(2)\n",
    "    merge_file()\n",
    "    print(\"Done\")"
   ]
  }
 ],
 "metadata": {
  "kernelspec": {
   "display_name": "Python 3 (ipykernel)",
   "language": "python",
   "name": "python3"
  },
  "language_info": {
   "codemirror_mode": {
    "name": "ipython",
    "version": 3
   },
   "file_extension": ".py",
   "mimetype": "text/x-python",
   "name": "python",
   "nbconvert_exporter": "python",
   "pygments_lexer": "ipython3",
   "version": "3.9.11"
  }
 },
 "nbformat": 4,
 "nbformat_minor": 5
}
